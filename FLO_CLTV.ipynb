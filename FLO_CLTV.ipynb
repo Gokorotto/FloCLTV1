{
 "cells": [
  {
   "cell_type": "markdown",
   "id": "72427411",
   "metadata": {},
   "source": [
    "## BG-NBD ve Gamma-Gamma with CLTV Predict"
   ]
  },
  {
   "attachments": {
    "download.png": {
     "image/png": "[encoded data removed]"
    }
   },
   "cell_type": "markdown",
   "id": "267c9479",
   "metadata": {},
   "source": [
    "![download.png](attachment:download.png)"
   ]
  },
  {
   "cell_type": "markdown",
   "id": "ce0d678d",
   "metadata": {},
   "source": [
    "### Data set\n",
    "#### The dataset consists of information obtained from the past shopping behaviors of customers who made their last purchases from Flo as OmniChannel (both online and offline shopping) in the years 2020-2021."
   ]
  },
  {
   "cell_type": "markdown",
   "id": "a82f0d6f",
   "metadata": {},
   "source": [
    "#### importing libraries"
   ]
  },
  {
   "cell_type": "code",
   "execution_count": 2,
   "id": "871a566d",
   "metadata": {},
   "outputs": [],
   "source": [
    "import datetime as dt\n",
    "import pandas as pd\n",
    "import matplotlib.pyplot as plt\n",
    "from lifetimes import BetaGeoFitter\n",
    "from lifetimes import GammaGammaFitter\n",
    "from lifetimes.plotting import plot_period_transactions"
   ]
  },
  {
   "cell_type": "code",
   "execution_count": 3,
   "id": "f48ebc4b",
   "metadata": {},
   "outputs": [],
   "source": [
    "pd.set_option('display.max_columns', None)\n",
    "pd.set_option('display.width', 500)\n",
    "pd.set_option('display.float_format', lambda x: '%.4f' % x)\n",
    "from sklearn.preprocessing import MinMaxScaler"
   ]
  },
  {
   "cell_type": "markdown",
   "id": "3bebcc9e",
   "metadata": {},
   "source": [
    "#### Reading Data\n",
    "\n"
   ]
  },
  {
   "cell_type": "code",
   "execution_count": 4,
   "id": "d666f2cd",
   "metadata": {},
   "outputs": [],
   "source": [
    "df_ = pd.read_csv(\"flo_data_20k.csv\")\n",
    "df = df_.copy()"
   ]
  },
  {
   "cell_type": "markdown",
   "id": "b90dedd2",
   "metadata": {},
   "source": [
    "#### Quick look at the data\n"
   ]
  },
  {
   "cell_type": "code",
   "execution_count": 5,
   "id": "ea94fa34",
   "metadata": {},
   "outputs": [],
   "source": [
    "def datareview(dataframe):\n",
    "    print(\"******head******\")\n",
    "    print(dataframe.head(10))\n",
    "    print(\"******shape******\")\n",
    "    print(dataframe.shape)\n",
    "    print(\"******info********\")\n",
    "    print(dataframe.info())\n",
    "    print(\"******describe********\")\n",
    "    print(dataframe.describe().T)\n",
    "    print(\"***** Nan data********\")\n",
    "    print(dataframe.isnull().sum())"
   ]
  },
  {
   "cell_type": "code",
   "execution_count": 6,
   "id": "c47a6c68",
   "metadata": {
    "scrolled": true
   },
   "outputs": [
    {
     "name": "stdout",
     "output_type": "stream",
     "text": [
      "******head******\n",
      "                              master_id order_channel last_order_channel first_order_date last_order_date last_order_date_online last_order_date_offline  order_num_total_ever_online  order_num_total_ever_offline  customer_value_total_ever_offline  customer_value_total_ever_online       interested_in_categories_12\n",
      "0  cc294636-19f0-11eb-8d74-000d3a38a36f   Android App            Offline       2020-10-30      2021-02-26             2021-02-21              2021-02-26                       4.0000                        1.0000                           139.9900                          799.3800                           [KADIN]\n",
      "1  f431bd5a-ab7b-11e9-a2fc-000d3a38a36f   Android App             Mobile       2017-02-08      2021-02-16             2021-02-16              2020-01-10                      19.0000                        2.0000                           159.9700                         1853.5800  [ERKEK, COCUK, KADIN, AKTIFSPOR]\n",
      "2  69b69676-1a40-11ea-941b-000d3a38a36f   Android App        Android App       2019-11-27      2020-11-27             2020-11-27              2019-12-01                       3.0000                        2.0000                           189.9700                          395.3500                    [ERKEK, KADIN]\n",
      "3  1854e56c-491f-11eb-806e-000d3a38a36f   Android App        Android App       2021-01-06      2021-01-17             2021-01-17              2021-01-06                       1.0000                        1.0000                            39.9900                           81.9800               [AKTIFCOCUK, COCUK]\n",
      "4  d6ea1074-f1f5-11e9-9346-000d3a38a36f       Desktop            Desktop       2019-08-03      2021-03-07             2021-03-07              2019-08-03                       1.0000                        1.0000                            49.9900                          159.9900                       [AKTIFSPOR]\n",
      "5  e585280e-aae1-11e9-a2fc-000d3a38a36f       Desktop            Offline       2018-11-18      2021-03-13             2018-11-18              2021-03-13                       1.0000                        2.0000                           150.8700                           49.9900                           [KADIN]\n",
      "6  c445e4ee-6242-11ea-9d1a-000d3a38a36f   Android App        Android App       2020-03-04      2020-10-18             2020-10-18              2020-03-04                       3.0000                        1.0000                            59.9900                          315.9400                       [AKTIFSPOR]\n",
      "7  3f1b4dc8-8a7d-11ea-8ec0-000d3a38a36f        Mobile            Offline       2020-05-15      2020-08-12             2020-05-15              2020-08-12                       1.0000                        1.0000                            49.9900                          113.6400                           [COCUK]\n",
      "8  cfbda69e-5b4f-11ea-aca7-000d3a38a36f   Android App        Android App       2020-01-23      2021-03-07             2021-03-07              2020-01-25                       3.0000                        2.0000                           120.4800                          934.2100             [ERKEK, COCUK, KADIN]\n",
      "9  1143f032-440d-11ea-8b43-000d3a38a36f        Mobile             Mobile       2019-07-30      2020-10-04             2020-10-04              2019-07-30                       1.0000                        1.0000                            69.9800                           95.9800                [KADIN, AKTIFSPOR]\n",
      "******shape******\n",
      "(19945, 12)\n",
      "******info********\n",
      "<class 'pandas.core.frame.DataFrame'>\n",
      "RangeIndex: 19945 entries, 0 to 19944\n",
      "Data columns (total 12 columns):\n",
      " #   Column                             Non-Null Count  Dtype  \n",
      "---  ------                             --------------  -----  \n",
      " 0   master_id                          19945 non-null  object \n",
      " 1   order_channel                      19945 non-null  object \n",
      " 2   last_order_channel                 19945 non-null  object \n",
      " 3   first_order_date                   19945 non-null  object \n",
      " 4   last_order_date                    19945 non-null  object \n",
      " 5   last_order_date_online             19945 non-null  object \n",
      " 6   last_order_date_offline            19945 non-null  object \n",
      " 7   order_num_total_ever_online        19945 non-null  float64\n",
      " 8   order_num_total_ever_offline       19945 non-null  float64\n",
      " 9   customer_value_total_ever_offline  19945 non-null  float64\n",
      " 10  customer_value_total_ever_online   19945 non-null  float64\n",
      " 11  interested_in_categories_12        19945 non-null  object \n",
      "dtypes: float64(4), object(8)\n",
      "memory usage: 1.8+ MB\n",
      "None\n",
      "******describe********\n",
      "                                       count     mean      std     min      25%      50%      75%        max\n",
      "order_num_total_ever_online       19945.0000   3.1109   4.2256  1.0000   1.0000   2.0000   4.0000   200.0000\n",
      "order_num_total_ever_offline      19945.0000   1.9139   2.0629  1.0000   1.0000   1.0000   2.0000   109.0000\n",
      "customer_value_total_ever_offline 19945.0000 253.9226 301.5329 10.0000  99.9900 179.9800 319.9700 18119.1400\n",
      "customer_value_total_ever_online  19945.0000 497.3217 832.6019 12.9900 149.9800 286.4600 578.4400 45220.1300\n",
      "***** Nan data********\n",
      "master_id                            0\n",
      "order_channel                        0\n",
      "last_order_channel                   0\n",
      "first_order_date                     0\n",
      "last_order_date                      0\n",
      "last_order_date_online               0\n",
      "last_order_date_offline              0\n",
      "order_num_total_ever_online          0\n",
      "order_num_total_ever_offline         0\n",
      "customer_value_total_ever_offline    0\n",
      "customer_value_total_ever_online     0\n",
      "interested_in_categories_12          0\n",
      "dtype: int64\n"
     ]
    }
   ],
   "source": [
    "datareview(df)"
   ]
  },
  {
   "cell_type": "markdown",
   "id": "ec2189b0",
   "metadata": {},
   "source": [
    "####  Outliers handling"
   ]
  },
  {
   "cell_type": "code",
   "execution_count": 7,
   "id": "0e69caf9",
   "metadata": {},
   "outputs": [
    {
     "data": {
      "text/html": [
       "<div>\n",
       "<style scoped>\n",
       "    .dataframe tbody tr th:only-of-type {\n",
       "        vertical-align: middle;\n",
       "    }\n",
       "\n",
       "    .dataframe tbody tr th {\n",
       "        vertical-align: top;\n",
       "    }\n",
       "\n",
       "    .dataframe thead th {\n",
       "        text-align: right;\n",
       "    }\n",
       "</style>\n",
       "<table border=\"1\" class=\"dataframe\">\n",
       "  <thead>\n",
       "    <tr style=\"text-align: right;\">\n",
       "      <th></th>\n",
       "      <th>count</th>\n",
       "      <th>mean</th>\n",
       "      <th>std</th>\n",
       "      <th>min</th>\n",
       "      <th>25%</th>\n",
       "      <th>50%</th>\n",
       "      <th>75%</th>\n",
       "      <th>max</th>\n",
       "    </tr>\n",
       "  </thead>\n",
       "  <tbody>\n",
       "    <tr>\n",
       "      <th>order_num_total_ever_online</th>\n",
       "      <td>19945.0000</td>\n",
       "      <td>3.1109</td>\n",
       "      <td>4.2256</td>\n",
       "      <td>1.0000</td>\n",
       "      <td>1.0000</td>\n",
       "      <td>2.0000</td>\n",
       "      <td>4.0000</td>\n",
       "      <td>200.0000</td>\n",
       "    </tr>\n",
       "    <tr>\n",
       "      <th>order_num_total_ever_offline</th>\n",
       "      <td>19945.0000</td>\n",
       "      <td>1.9139</td>\n",
       "      <td>2.0629</td>\n",
       "      <td>1.0000</td>\n",
       "      <td>1.0000</td>\n",
       "      <td>1.0000</td>\n",
       "      <td>2.0000</td>\n",
       "      <td>109.0000</td>\n",
       "    </tr>\n",
       "    <tr>\n",
       "      <th>customer_value_total_ever_offline</th>\n",
       "      <td>19945.0000</td>\n",
       "      <td>253.9226</td>\n",
       "      <td>301.5329</td>\n",
       "      <td>10.0000</td>\n",
       "      <td>99.9900</td>\n",
       "      <td>179.9800</td>\n",
       "      <td>319.9700</td>\n",
       "      <td>18119.1400</td>\n",
       "    </tr>\n",
       "    <tr>\n",
       "      <th>customer_value_total_ever_online</th>\n",
       "      <td>19945.0000</td>\n",
       "      <td>497.3217</td>\n",
       "      <td>832.6019</td>\n",
       "      <td>12.9900</td>\n",
       "      <td>149.9800</td>\n",
       "      <td>286.4600</td>\n",
       "      <td>578.4400</td>\n",
       "      <td>45220.1300</td>\n",
       "    </tr>\n",
       "  </tbody>\n",
       "</table>\n",
       "</div>"
      ],
      "text/plain": [
       "                                       count     mean      std     min      25%      50%      75%        max\n",
       "order_num_total_ever_online       19945.0000   3.1109   4.2256  1.0000   1.0000   2.0000   4.0000   200.0000\n",
       "order_num_total_ever_offline      19945.0000   1.9139   2.0629  1.0000   1.0000   1.0000   2.0000   109.0000\n",
       "customer_value_total_ever_offline 19945.0000 253.9226 301.5329 10.0000  99.9900 179.9800 319.9700 18119.1400\n",
       "customer_value_total_ever_online  19945.0000 497.3217 832.6019 12.9900 149.9800 286.4600 578.4400 45220.1300"
      ]
     },
     "execution_count": 7,
     "metadata": {},
     "output_type": "execute_result"
    }
   ],
   "source": [
    "df.describe().T"
   ]
  },
  {
   "cell_type": "code",
   "execution_count": 8,
   "id": "e3119454",
   "metadata": {},
   "outputs": [],
   "source": [
    "def outlier_thresholds(dataframe, variable):\n",
    "    quartile1 = dataframe[variable].quantile(0.25)\n",
    "    quartile3 = dataframe[variable].quantile(0.75)\n",
    "    interquantile_range = quartile3 - quartile1\n",
    "    up_limit = round(quartile3 + 1.5 * interquantile_range)\n",
    "    low_limit = round(quartile1 - 1.5 * interquantile_range)\n",
    "    return low_limit, up_limit\n",
    "\n",
    "\n",
    "def replace_with_thresholds(dataframe, variable):\n",
    "    low_limit, up_limit = outlier_thresholds(dataframe, variable)\n",
    "    #dataframe.loc[(dataframe[variable] < low_limit), variable] = low_limit\n",
    "    dataframe.loc[(dataframe[variable] > up_limit), variable] = up_limit\n",
    "    \n"
   ]
  },
  {
   "cell_type": "code",
   "execution_count": 9,
   "id": "732ce684",
   "metadata": {},
   "outputs": [],
   "source": [
    "replace_with_thresholds(df, \"order_num_total_ever_online\")\n",
    "replace_with_thresholds(df, \"order_num_total_ever_offline\")\n",
    "replace_with_thresholds(df, \"customer_value_total_ever_offline\")\n",
    "replace_with_thresholds(df, \"customer_value_total_ever_online\")"
   ]
  },
  {
   "cell_type": "code",
   "execution_count": 10,
   "id": "e4fb3dbc",
   "metadata": {
    "scrolled": true
   },
   "outputs": [
    {
     "data": {
      "text/html": [
       "<div>\n",
       "<style scoped>\n",
       "    .dataframe tbody tr th:only-of-type {\n",
       "        vertical-align: middle;\n",
       "    }\n",
       "\n",
       "    .dataframe tbody tr th {\n",
       "        vertical-align: top;\n",
       "    }\n",
       "\n",
       "    .dataframe thead th {\n",
       "        text-align: right;\n",
       "    }\n",
       "</style>\n",
       "<table border=\"1\" class=\"dataframe\">\n",
       "  <thead>\n",
       "    <tr style=\"text-align: right;\">\n",
       "      <th></th>\n",
       "      <th>count</th>\n",
       "      <th>mean</th>\n",
       "      <th>std</th>\n",
       "      <th>min</th>\n",
       "      <th>25%</th>\n",
       "      <th>50%</th>\n",
       "      <th>75%</th>\n",
       "      <th>max</th>\n",
       "    </tr>\n",
       "  </thead>\n",
       "  <tbody>\n",
       "    <tr>\n",
       "      <th>order_num_total_ever_online</th>\n",
       "      <td>19945.0000</td>\n",
       "      <td>2.6886</td>\n",
       "      <td>2.1748</td>\n",
       "      <td>1.0000</td>\n",
       "      <td>1.0000</td>\n",
       "      <td>2.0000</td>\n",
       "      <td>4.0000</td>\n",
       "      <td>8.0000</td>\n",
       "    </tr>\n",
       "    <tr>\n",
       "      <th>order_num_total_ever_offline</th>\n",
       "      <td>19945.0000</td>\n",
       "      <td>1.7669</td>\n",
       "      <td>0.9980</td>\n",
       "      <td>1.0000</td>\n",
       "      <td>1.0000</td>\n",
       "      <td>1.0000</td>\n",
       "      <td>2.0000</td>\n",
       "      <td>4.0000</td>\n",
       "    </tr>\n",
       "    <tr>\n",
       "      <th>customer_value_total_ever_offline</th>\n",
       "      <td>19945.0000</td>\n",
       "      <td>232.4516</td>\n",
       "      <td>173.9674</td>\n",
       "      <td>10.0000</td>\n",
       "      <td>99.9900</td>\n",
       "      <td>179.9800</td>\n",
       "      <td>319.9700</td>\n",
       "      <td>650.0000</td>\n",
       "    </tr>\n",
       "    <tr>\n",
       "      <th>customer_value_total_ever_online</th>\n",
       "      <td>19945.0000</td>\n",
       "      <td>416.8516</td>\n",
       "      <td>352.8910</td>\n",
       "      <td>12.9900</td>\n",
       "      <td>149.9800</td>\n",
       "      <td>286.4600</td>\n",
       "      <td>578.4400</td>\n",
       "      <td>1221.0000</td>\n",
       "    </tr>\n",
       "  </tbody>\n",
       "</table>\n",
       "</div>"
      ],
      "text/plain": [
       "                                       count     mean      std     min      25%      50%      75%       max\n",
       "order_num_total_ever_online       19945.0000   2.6886   2.1748  1.0000   1.0000   2.0000   4.0000    8.0000\n",
       "order_num_total_ever_offline      19945.0000   1.7669   0.9980  1.0000   1.0000   1.0000   2.0000    4.0000\n",
       "customer_value_total_ever_offline 19945.0000 232.4516 173.9674 10.0000  99.9900 179.9800 319.9700  650.0000\n",
       "customer_value_total_ever_online  19945.0000 416.8516 352.8910 12.9900 149.9800 286.4600 578.4400 1221.0000"
      ]
     },
     "execution_count": 10,
     "metadata": {},
     "output_type": "execute_result"
    }
   ],
   "source": [
    "df.describe().T"
   ]
  },
  {
   "cell_type": "code",
   "execution_count": 11,
   "id": "22ebb346",
   "metadata": {},
   "outputs": [
    {
     "data": {
      "text/html": [
       "<div>\n",
       "<style scoped>\n",
       "    .dataframe tbody tr th:only-of-type {\n",
       "        vertical-align: middle;\n",
       "    }\n",
       "\n",
       "    .dataframe tbody tr th {\n",
       "        vertical-align: top;\n",
       "    }\n",
       "\n",
       "    .dataframe thead th {\n",
       "        text-align: right;\n",
       "    }\n",
       "</style>\n",
       "<table border=\"1\" class=\"dataframe\">\n",
       "  <thead>\n",
       "    <tr style=\"text-align: right;\">\n",
       "      <th></th>\n",
       "      <th>count</th>\n",
       "      <th>mean</th>\n",
       "      <th>std</th>\n",
       "      <th>min</th>\n",
       "      <th>50%</th>\n",
       "      <th>60%</th>\n",
       "      <th>70%</th>\n",
       "      <th>80%</th>\n",
       "      <th>90%</th>\n",
       "      <th>max</th>\n",
       "    </tr>\n",
       "  </thead>\n",
       "  <tbody>\n",
       "    <tr>\n",
       "      <th>order_num_total_ever_online</th>\n",
       "      <td>19945.0000</td>\n",
       "      <td>2.6886</td>\n",
       "      <td>2.1748</td>\n",
       "      <td>1.0000</td>\n",
       "      <td>2.0000</td>\n",
       "      <td>2.0000</td>\n",
       "      <td>3.0000</td>\n",
       "      <td>4.0000</td>\n",
       "      <td>7.0000</td>\n",
       "      <td>8.0000</td>\n",
       "    </tr>\n",
       "    <tr>\n",
       "      <th>order_num_total_ever_offline</th>\n",
       "      <td>19945.0000</td>\n",
       "      <td>1.7669</td>\n",
       "      <td>0.9980</td>\n",
       "      <td>1.0000</td>\n",
       "      <td>1.0000</td>\n",
       "      <td>2.0000</td>\n",
       "      <td>2.0000</td>\n",
       "      <td>3.0000</td>\n",
       "      <td>4.0000</td>\n",
       "      <td>4.0000</td>\n",
       "    </tr>\n",
       "    <tr>\n",
       "      <th>customer_value_total_ever_offline</th>\n",
       "      <td>19945.0000</td>\n",
       "      <td>232.4516</td>\n",
       "      <td>173.9674</td>\n",
       "      <td>10.0000</td>\n",
       "      <td>179.9800</td>\n",
       "      <td>220.8600</td>\n",
       "      <td>281.8680</td>\n",
       "      <td>365.0580</td>\n",
       "      <td>519.9500</td>\n",
       "      <td>650.0000</td>\n",
       "    </tr>\n",
       "    <tr>\n",
       "      <th>customer_value_total_ever_online</th>\n",
       "      <td>19945.0000</td>\n",
       "      <td>416.8516</td>\n",
       "      <td>352.8910</td>\n",
       "      <td>12.9900</td>\n",
       "      <td>286.4600</td>\n",
       "      <td>371.9440</td>\n",
       "      <td>491.5260</td>\n",
       "      <td>690.8680</td>\n",
       "      <td>1082.0360</td>\n",
       "      <td>1221.0000</td>\n",
       "    </tr>\n",
       "  </tbody>\n",
       "</table>\n",
       "</div>"
      ],
      "text/plain": [
       "                                       count     mean      std     min      50%      60%      70%      80%       90%       max\n",
       "order_num_total_ever_online       19945.0000   2.6886   2.1748  1.0000   2.0000   2.0000   3.0000   4.0000    7.0000    8.0000\n",
       "order_num_total_ever_offline      19945.0000   1.7669   0.9980  1.0000   1.0000   2.0000   2.0000   3.0000    4.0000    4.0000\n",
       "customer_value_total_ever_offline 19945.0000 232.4516 173.9674 10.0000 179.9800 220.8600 281.8680 365.0580  519.9500  650.0000\n",
       "customer_value_total_ever_online  19945.0000 416.8516 352.8910 12.9900 286.4600 371.9440 491.5260 690.8680 1082.0360 1221.0000"
      ]
     },
     "execution_count": 11,
     "metadata": {},
     "output_type": "execute_result"
    }
   ],
   "source": [
    "df.describe(percentiles=[.50,.60,.70,.80,.90]).T"
   ]
  },
  {
   "cell_type": "markdown",
   "id": "f9e41ea8",
   "metadata": {},
   "source": [
    "##### We created new variables for each customer's total purchases and spend\n"
   ]
  },
  {
   "cell_type": "code",
   "execution_count": 12,
   "id": "1b95a06d",
   "metadata": {},
   "outputs": [],
   "source": [
    "df[\"total_number_of_purchases\"] = df[\"order_num_total_ever_online\"] + df[\"order_num_total_ever_offline\"]\n",
    "\n",
    "df[\"total_shopping_fee\"] = df[\"customer_value_total_ever_offline\"] + df[\"customer_value_total_ever_online\"]"
   ]
  },
  {
   "cell_type": "markdown",
   "id": "57c1be39",
   "metadata": {},
   "source": [
    "#### Date type editing\n"
   ]
  },
  {
   "cell_type": "code",
   "execution_count": 13,
   "id": "98a38500",
   "metadata": {},
   "outputs": [
    {
     "name": "stdout",
     "output_type": "stream",
     "text": [
      "<class 'pandas.core.frame.DataFrame'>\n",
      "RangeIndex: 19945 entries, 0 to 19944\n",
      "Data columns (total 14 columns):\n",
      " #   Column                             Non-Null Count  Dtype         \n",
      "---  ------                             --------------  -----         \n",
      " 0   master_id                          19945 non-null  object        \n",
      " 1   order_channel                      19945 non-null  object        \n",
      " 2   last_order_channel                 19945 non-null  object        \n",
      " 3   first_order_date                   19945 non-null  datetime64[ns]\n",
      " 4   last_order_date                    19945 non-null  datetime64[ns]\n",
      " 5   last_order_date_online             19945 non-null  datetime64[ns]\n",
      " 6   last_order_date_offline            19945 non-null  datetime64[ns]\n",
      " 7   order_num_total_ever_online        19945 non-null  float64       \n",
      " 8   order_num_total_ever_offline       19945 non-null  float64       \n",
      " 9   customer_value_total_ever_offline  19945 non-null  float64       \n",
      " 10  customer_value_total_ever_online   19945 non-null  float64       \n",
      " 11  interested_in_categories_12        19945 non-null  object        \n",
      " 12  total_number_of_purchases          19945 non-null  float64       \n",
      " 13  total_shopping_fee                 19945 non-null  float64       \n",
      "dtypes: datetime64[ns](4), float64(6), object(4)\n",
      "memory usage: 2.1+ MB\n"
     ]
    }
   ],
   "source": [
    "df['last_order_date_offline'] = pd.to_datetime(df['last_order_date_offline'])\n",
    "df['last_order_date_online'] = pd.to_datetime(df['last_order_date_online'])\n",
    "df['last_order_date'] = pd.to_datetime(df['last_order_date'])\n",
    "df['first_order_date'] = pd.to_datetime(df['first_order_date'])\n",
    "df.info()"
   ]
  },
  {
   "cell_type": "markdown",
   "id": "00cc3a10",
   "metadata": {},
   "source": [
    "#### For the recency value, we take 2 days after the last order as the analysis date.\n"
   ]
  },
  {
   "cell_type": "code",
   "execution_count": 14,
   "id": "c6557499",
   "metadata": {},
   "outputs": [
    {
     "data": {
      "text/plain": [
       "Timestamp('2021-05-30 00:00:00')"
      ]
     },
     "execution_count": 14,
     "metadata": {},
     "output_type": "execute_result"
    }
   ],
   "source": [
    "df[\"last_order_date\"].max()"
   ]
  },
  {
   "cell_type": "markdown",
   "id": "f08138c8",
   "metadata": {},
   "source": [
    "#### Date type editing\n"
   ]
  },
  {
   "cell_type": "code",
   "execution_count": 15,
   "id": "875bbd03",
   "metadata": {},
   "outputs": [
    {
     "data": {
      "text/plain": [
       "datetime.datetime(2021, 6, 2, 0, 0)"
      ]
     },
     "execution_count": 15,
     "metadata": {},
     "output_type": "execute_result"
    }
   ],
   "source": [
    "today_date = dt.datetime(2021, 6, 2)\n",
    "today_date"
   ]
  },
  {
   "cell_type": "code",
   "execution_count": 16,
   "id": "53b843ac",
   "metadata": {},
   "outputs": [],
   "source": [
    "cltv_df = pd.DataFrame({\"customer_id\": df[\"master_id\"],\n",
    "             \"recency_cltv_weekly\": ((df[\"last_order_date\"] - df[\"first_order_date\"]).dt.days)/7,\n",
    "             \"T_weekly\": ((today_date - df[\"first_order_date\"]).astype('timedelta64[D]'))/7,\n",
    "             \"frequency\": df[\"total_number_of_purchases\"],\n",
    "             \"monetary_cltv_avg\": df[\"total_shopping_fee\"] / df[\"total_number_of_purchases\"]})"
   ]
  },
  {
   "cell_type": "code",
   "execution_count": 17,
   "id": "40f6a40f",
   "metadata": {},
   "outputs": [
    {
     "name": "stdout",
     "output_type": "stream",
     "text": [
      "<class 'pandas.core.frame.DataFrame'>\n",
      "RangeIndex: 19945 entries, 0 to 19944\n",
      "Data columns (total 5 columns):\n",
      " #   Column               Non-Null Count  Dtype  \n",
      "---  ------               --------------  -----  \n",
      " 0   customer_id          19945 non-null  object \n",
      " 1   recency_cltv_weekly  19945 non-null  float64\n",
      " 2   T_weekly             19945 non-null  float64\n",
      " 3   frequency            19945 non-null  float64\n",
      " 4   monetary_cltv_avg    19945 non-null  float64\n",
      "dtypes: float64(4), object(1)\n",
      "memory usage: 779.2+ KB\n"
     ]
    }
   ],
   "source": [
    "cltv_df.info()"
   ]
  },
  {
   "cell_type": "markdown",
   "id": "8bc83626",
   "metadata": {},
   "source": [
    "#### BG/NBD model"
   ]
  },
  {
   "cell_type": "code",
   "execution_count": 18,
   "id": "c6198790",
   "metadata": {},
   "outputs": [],
   "source": [
    "bgf = BetaGeoFitter(penalizer_coef=0.001)"
   ]
  },
  {
   "cell_type": "code",
   "execution_count": 19,
   "id": "b38913b0",
   "metadata": {},
   "outputs": [
    {
     "data": {
      "text/plain": [
       "<lifetimes.BetaGeoFitter: fitted with 19945 subjects, a: 0.00, alpha: 107.91, b: 0.00, r: 4.69>"
      ]
     },
     "execution_count": 19,
     "metadata": {},
     "output_type": "execute_result"
    }
   ],
   "source": [
    "bgf.fit(cltv_df['frequency'],\n",
    "       cltv_df['recency_cltv_weekly'],\n",
    "       cltv_df['T_weekly'])"
   ]
  },
  {
   "cell_type": "code",
   "execution_count": 20,
   "id": "22768ac1",
   "metadata": {},
   "outputs": [],
   "source": [
    "cltv_df[\"exp_sales_3_month\"] = bgf.conditional_expected_number_of_purchases_up_to_time(4*3,\n",
    "                                                        cltv_df['frequency'],\n",
    "                                                        cltv_df['recency_cltv_weekly'],\n",
    "                                                        cltv_df['T_weekly'])"
   ]
  },
  {
   "cell_type": "code",
   "execution_count": 21,
   "id": "6671283a",
   "metadata": {},
   "outputs": [],
   "source": [
    "cltv_df[\"exp_sales_6_month\"] = bgf.predict(4*6,\n",
    "                                       cltv_df['frequency'],\n",
    "                                       cltv_df['recency_cltv_weekly'],\n",
    "                                       cltv_df['T_weekly'])"
   ]
  },
  {
   "cell_type": "code",
   "execution_count": 22,
   "id": "6ab9b0b9",
   "metadata": {
    "scrolled": true
   },
   "outputs": [
    {
     "data": {
      "text/html": [
       "<div>\n",
       "<style scoped>\n",
       "    .dataframe tbody tr th:only-of-type {\n",
       "        vertical-align: middle;\n",
       "    }\n",
       "\n",
       "    .dataframe tbody tr th {\n",
       "        vertical-align: top;\n",
       "    }\n",
       "\n",
       "    .dataframe thead th {\n",
       "        text-align: right;\n",
       "    }\n",
       "</style>\n",
       "<table border=\"1\" class=\"dataframe\">\n",
       "  <thead>\n",
       "    <tr style=\"text-align: right;\">\n",
       "      <th></th>\n",
       "      <th>customer_id</th>\n",
       "      <th>recency_cltv_weekly</th>\n",
       "      <th>T_weekly</th>\n",
       "      <th>frequency</th>\n",
       "      <th>monetary_cltv_avg</th>\n",
       "      <th>exp_sales_3_month</th>\n",
       "      <th>exp_sales_6_month</th>\n",
       "    </tr>\n",
       "  </thead>\n",
       "  <tbody>\n",
       "    <tr>\n",
       "      <th>19940</th>\n",
       "      <td>727e2b6e-ddd4-11e9-a848-000d3a38a36f</td>\n",
       "      <td>41.1429</td>\n",
       "      <td>88.5714</td>\n",
       "      <td>3.0000</td>\n",
       "      <td>133.9867</td>\n",
       "      <td>0.4697</td>\n",
       "      <td>0.9394</td>\n",
       "    </tr>\n",
       "    <tr>\n",
       "      <th>19941</th>\n",
       "      <td>25cd53d4-61bf-11ea-8dd8-000d3a38a36f</td>\n",
       "      <td>42.2857</td>\n",
       "      <td>65.4286</td>\n",
       "      <td>2.0000</td>\n",
       "      <td>195.2350</td>\n",
       "      <td>0.4632</td>\n",
       "      <td>0.9264</td>\n",
       "    </tr>\n",
       "    <tr>\n",
       "      <th>19942</th>\n",
       "      <td>8aea4c2a-d6fc-11e9-93bc-000d3a38a36f</td>\n",
       "      <td>88.7143</td>\n",
       "      <td>90.0000</td>\n",
       "      <td>3.0000</td>\n",
       "      <td>210.9800</td>\n",
       "      <td>0.4663</td>\n",
       "      <td>0.9326</td>\n",
       "    </tr>\n",
       "    <tr>\n",
       "      <th>19943</th>\n",
       "      <td>e50bb46c-ff30-11e9-a5e8-000d3a38a36f</td>\n",
       "      <td>98.4286</td>\n",
       "      <td>114.0000</td>\n",
       "      <td>5.0000</td>\n",
       "      <td>189.5960</td>\n",
       "      <td>0.5240</td>\n",
       "      <td>1.0481</td>\n",
       "    </tr>\n",
       "    <tr>\n",
       "      <th>19944</th>\n",
       "      <td>740998d2-b1f7-11e9-89fa-000d3a38a36f</td>\n",
       "      <td>39.5714</td>\n",
       "      <td>91.1429</td>\n",
       "      <td>2.0000</td>\n",
       "      <td>130.9850</td>\n",
       "      <td>0.4033</td>\n",
       "      <td>0.8067</td>\n",
       "    </tr>\n",
       "  </tbody>\n",
       "</table>\n",
       "</div>"
      ],
      "text/plain": [
       "                                customer_id  recency_cltv_weekly  T_weekly  frequency  monetary_cltv_avg  exp_sales_3_month  exp_sales_6_month\n",
       "19940  727e2b6e-ddd4-11e9-a848-000d3a38a36f              41.1429   88.5714     3.0000           133.9867             0.4697             0.9394\n",
       "19941  25cd53d4-61bf-11ea-8dd8-000d3a38a36f              42.2857   65.4286     2.0000           195.2350             0.4632             0.9264\n",
       "19942  8aea4c2a-d6fc-11e9-93bc-000d3a38a36f              88.7143   90.0000     3.0000           210.9800             0.4663             0.9326\n",
       "19943  e50bb46c-ff30-11e9-a5e8-000d3a38a36f              98.4286  114.0000     5.0000           189.5960             0.5240             1.0481\n",
       "19944  740998d2-b1f7-11e9-89fa-000d3a38a36f              39.5714   91.1429     2.0000           130.9850             0.4033             0.8067"
      ]
     },
     "execution_count": 22,
     "metadata": {},
     "output_type": "execute_result"
    }
   ],
   "source": [
    "cltv_df.tail()"
   ]
  },
  {
   "cell_type": "markdown",
   "id": "a99a01bb",
   "metadata": {},
   "source": [
    "#### Gamma-Gamma model "
   ]
  },
  {
   "cell_type": "code",
   "execution_count": 23,
   "id": "4ccefd22",
   "metadata": {},
   "outputs": [],
   "source": [
    "ggf = GammaGammaFitter(penalizer_coef=0.01)"
   ]
  },
  {
   "cell_type": "code",
   "execution_count": 24,
   "id": "e351c032",
   "metadata": {},
   "outputs": [
    {
     "data": {
      "text/plain": [
       "<lifetimes.GammaGammaFitter: fitted with 19945 subjects, p: 4.16, q: 0.47, v: 4.09>"
      ]
     },
     "execution_count": 24,
     "metadata": {},
     "output_type": "execute_result"
    }
   ],
   "source": [
    "ggf.fit(cltv_df['frequency'], cltv_df['monetary_cltv_avg'])"
   ]
  },
  {
   "cell_type": "code",
   "execution_count": 25,
   "id": "d7b7dbe5",
   "metadata": {},
   "outputs": [],
   "source": [
    "cltv_df[\"exp_average_profit\"] = ggf.conditional_expected_average_profit(cltv_df['frequency'],\n",
    "                                                                cltv_df['monetary_cltv_avg'])"
   ]
  },
  {
   "cell_type": "code",
   "execution_count": 26,
   "id": "04f3c184",
   "metadata": {},
   "outputs": [],
   "source": [
    "cltv = ggf.customer_lifetime_value(bgf,\n",
    "                                       cltv_df['frequency'],\n",
    "                                       cltv_df['recency_cltv_weekly'],\n",
    "                                       cltv_df['T_weekly'],\n",
    "                                       cltv_df['monetary_cltv_avg'],\n",
    "                                       time=6,  # 6 aylık\n",
    "                                       freq=\"W\",  # T'nin frekans bilgisi.\n",
    "                                       discount_rate=0.01)"
   ]
  },
  {
   "cell_type": "code",
   "execution_count": 27,
   "id": "db9dc882",
   "metadata": {},
   "outputs": [],
   "source": [
    "cltv_df[\"cltv\"] = cltv"
   ]
  },
  {
   "cell_type": "code",
   "execution_count": 28,
   "id": "3bbc87f0",
   "metadata": {
    "scrolled": true
   },
   "outputs": [
    {
     "data": {
      "text/html": [
       "<div>\n",
       "<style scoped>\n",
       "    .dataframe tbody tr th:only-of-type {\n",
       "        vertical-align: middle;\n",
       "    }\n",
       "\n",
       "    .dataframe tbody tr th {\n",
       "        vertical-align: top;\n",
       "    }\n",
       "\n",
       "    .dataframe thead th {\n",
       "        text-align: right;\n",
       "    }\n",
       "</style>\n",
       "<table border=\"1\" class=\"dataframe\">\n",
       "  <thead>\n",
       "    <tr style=\"text-align: right;\">\n",
       "      <th></th>\n",
       "      <th>customer_id</th>\n",
       "      <th>recency_cltv_weekly</th>\n",
       "      <th>T_weekly</th>\n",
       "      <th>frequency</th>\n",
       "      <th>monetary_cltv_avg</th>\n",
       "      <th>exp_sales_3_month</th>\n",
       "      <th>exp_sales_6_month</th>\n",
       "      <th>exp_average_profit</th>\n",
       "      <th>cltv</th>\n",
       "    </tr>\n",
       "  </thead>\n",
       "  <tbody>\n",
       "    <tr>\n",
       "      <th>6402</th>\n",
       "      <td>851de3b4-8f0c-11eb-8cb8-000d3a38a36f</td>\n",
       "      <td>8.2857</td>\n",
       "      <td>9.5714</td>\n",
       "      <td>2.0000</td>\n",
       "      <td>650.2450</td>\n",
       "      <td>0.6834</td>\n",
       "      <td>1.3668</td>\n",
       "      <td>696.4502</td>\n",
       "      <td>998.7648</td>\n",
       "    </tr>\n",
       "    <tr>\n",
       "      <th>9055</th>\n",
       "      <td>47a642fe-975b-11eb-8c2a-000d3a38a36f</td>\n",
       "      <td>2.8571</td>\n",
       "      <td>8.0000</td>\n",
       "      <td>4.0000</td>\n",
       "      <td>467.7500</td>\n",
       "      <td>0.8997</td>\n",
       "      <td>1.7994</td>\n",
       "      <td>484.1208</td>\n",
       "      <td>914.0228</td>\n",
       "    </tr>\n",
       "    <tr>\n",
       "      <th>15123</th>\n",
       "      <td>635b5e0a-a686-11eb-a6d3-000d3a299ebf</td>\n",
       "      <td>2.0000</td>\n",
       "      <td>5.2857</td>\n",
       "      <td>3.0000</td>\n",
       "      <td>447.1100</td>\n",
       "      <td>0.8153</td>\n",
       "      <td>1.6306</td>\n",
       "      <td>468.2676</td>\n",
       "      <td>801.1237</td>\n",
       "    </tr>\n",
       "    <tr>\n",
       "      <th>10792</th>\n",
       "      <td>f1f89712-84e5-11eb-8a3c-000d3a38a36f</td>\n",
       "      <td>7.2857</td>\n",
       "      <td>11.4286</td>\n",
       "      <td>2.0000</td>\n",
       "      <td>522.4500</td>\n",
       "      <td>0.6728</td>\n",
       "      <td>1.3455</td>\n",
       "      <td>560.0032</td>\n",
       "      <td>790.5918</td>\n",
       "    </tr>\n",
       "    <tr>\n",
       "      <th>7173</th>\n",
       "      <td>8897f4a8-c793-11ea-b753-000d3a38a36f</td>\n",
       "      <td>40.1429</td>\n",
       "      <td>45.8571</td>\n",
       "      <td>3.0000</td>\n",
       "      <td>597.1433</td>\n",
       "      <td>0.6002</td>\n",
       "      <td>1.2004</td>\n",
       "      <td>624.9232</td>\n",
       "      <td>787.0498</td>\n",
       "    </tr>\n",
       "  </tbody>\n",
       "</table>\n",
       "</div>"
      ],
      "text/plain": [
       "                                customer_id  recency_cltv_weekly  T_weekly  frequency  monetary_cltv_avg  exp_sales_3_month  exp_sales_6_month  exp_average_profit     cltv\n",
       "6402   851de3b4-8f0c-11eb-8cb8-000d3a38a36f               8.2857    9.5714     2.0000           650.2450             0.6834             1.3668            696.4502 998.7648\n",
       "9055   47a642fe-975b-11eb-8c2a-000d3a38a36f               2.8571    8.0000     4.0000           467.7500             0.8997             1.7994            484.1208 914.0228\n",
       "15123  635b5e0a-a686-11eb-a6d3-000d3a299ebf               2.0000    5.2857     3.0000           447.1100             0.8153             1.6306            468.2676 801.1237\n",
       "10792  f1f89712-84e5-11eb-8a3c-000d3a38a36f               7.2857   11.4286     2.0000           522.4500             0.6728             1.3455            560.0032 790.5918\n",
       "7173   8897f4a8-c793-11ea-b753-000d3a38a36f              40.1429   45.8571     3.0000           597.1433             0.6002             1.2004            624.9232 787.0498"
      ]
     },
     "execution_count": 28,
     "metadata": {},
     "output_type": "execute_result"
    }
   ],
   "source": [
    "cltv_df.sort_values(\"cltv\",ascending=False)[:5]\n"
   ]
  },
  {
   "cell_type": "code",
   "execution_count": 29,
   "id": "706fe25c",
   "metadata": {},
   "outputs": [],
   "source": [
    "cltv_df[\"cltv_segment\"] = pd.qcut(cltv_df[\"cltv\"], 4, labels=[\"D\", \"C\", \"B\", \"A\"])"
   ]
  },
  {
   "cell_type": "code",
   "execution_count": 30,
   "id": "e17009df",
   "metadata": {},
   "outputs": [
    {
     "data": {
      "text/html": [
       "<div>\n",
       "<style scoped>\n",
       "    .dataframe tbody tr th:only-of-type {\n",
       "        vertical-align: middle;\n",
       "    }\n",
       "\n",
       "    .dataframe tbody tr th {\n",
       "        vertical-align: top;\n",
       "    }\n",
       "\n",
       "    .dataframe thead th {\n",
       "        text-align: right;\n",
       "    }\n",
       "</style>\n",
       "<table border=\"1\" class=\"dataframe\">\n",
       "  <thead>\n",
       "    <tr style=\"text-align: right;\">\n",
       "      <th></th>\n",
       "      <th>customer_id</th>\n",
       "      <th>recency_cltv_weekly</th>\n",
       "      <th>T_weekly</th>\n",
       "      <th>frequency</th>\n",
       "      <th>monetary_cltv_avg</th>\n",
       "      <th>exp_sales_3_month</th>\n",
       "      <th>exp_sales_6_month</th>\n",
       "      <th>exp_average_profit</th>\n",
       "      <th>cltv</th>\n",
       "      <th>cltv_segment</th>\n",
       "    </tr>\n",
       "  </thead>\n",
       "  <tbody>\n",
       "    <tr>\n",
       "      <th>0</th>\n",
       "      <td>cc294636-19f0-11eb-8d74-000d3a38a36f</td>\n",
       "      <td>17.0000</td>\n",
       "      <td>30.7143</td>\n",
       "      <td>5.0000</td>\n",
       "      <td>187.8740</td>\n",
       "      <td>0.8389</td>\n",
       "      <td>1.6777</td>\n",
       "      <td>193.6020</td>\n",
       "      <td>340.7980</td>\n",
       "      <td>A</td>\n",
       "    </tr>\n",
       "  </tbody>\n",
       "</table>\n",
       "</div>"
      ],
      "text/plain": [
       "                            customer_id  recency_cltv_weekly  T_weekly  frequency  monetary_cltv_avg  exp_sales_3_month  exp_sales_6_month  exp_average_profit     cltv cltv_segment\n",
       "0  cc294636-19f0-11eb-8d74-000d3a38a36f              17.0000   30.7143     5.0000           187.8740             0.8389             1.6777            193.6020 340.7980            A"
      ]
     },
     "execution_count": 30,
     "metadata": {},
     "output_type": "execute_result"
    }
   ],
   "source": [
    "cltv_df.head(1)"
   ]
  },
  {
   "cell_type": "markdown",
   "id": "4f397800",
   "metadata": {},
   "source": [
    "####  Action review"
   ]
  },
  {
   "cell_type": "code",
   "execution_count": 31,
   "id": "23bdc28a",
   "metadata": {},
   "outputs": [
    {
     "data": {
      "text/html": [
       "<div>\n",
       "<style scoped>\n",
       "    .dataframe tbody tr th:only-of-type {\n",
       "        vertical-align: middle;\n",
       "    }\n",
       "\n",
       "    .dataframe tbody tr th {\n",
       "        vertical-align: top;\n",
       "    }\n",
       "\n",
       "    .dataframe thead tr th {\n",
       "        text-align: left;\n",
       "    }\n",
       "\n",
       "    .dataframe thead tr:last-of-type th {\n",
       "        text-align: right;\n",
       "    }\n",
       "</style>\n",
       "<table border=\"1\" class=\"dataframe\">\n",
       "  <thead>\n",
       "    <tr>\n",
       "      <th></th>\n",
       "      <th colspan=\"3\" halign=\"left\">recency_cltv_weekly</th>\n",
       "      <th colspan=\"3\" halign=\"left\">T_weekly</th>\n",
       "      <th colspan=\"3\" halign=\"left\">frequency</th>\n",
       "      <th colspan=\"3\" halign=\"left\">monetary_cltv_avg</th>\n",
       "      <th colspan=\"3\" halign=\"left\">exp_sales_3_month</th>\n",
       "      <th colspan=\"3\" halign=\"left\">exp_sales_6_month</th>\n",
       "      <th colspan=\"3\" halign=\"left\">exp_average_profit</th>\n",
       "      <th colspan=\"3\" halign=\"left\">cltv</th>\n",
       "    </tr>\n",
       "    <tr>\n",
       "      <th></th>\n",
       "      <th>sum</th>\n",
       "      <th>mean</th>\n",
       "      <th>count</th>\n",
       "      <th>sum</th>\n",
       "      <th>mean</th>\n",
       "      <th>count</th>\n",
       "      <th>sum</th>\n",
       "      <th>mean</th>\n",
       "      <th>count</th>\n",
       "      <th>sum</th>\n",
       "      <th>mean</th>\n",
       "      <th>count</th>\n",
       "      <th>sum</th>\n",
       "      <th>mean</th>\n",
       "      <th>count</th>\n",
       "      <th>sum</th>\n",
       "      <th>mean</th>\n",
       "      <th>count</th>\n",
       "      <th>sum</th>\n",
       "      <th>mean</th>\n",
       "      <th>count</th>\n",
       "      <th>sum</th>\n",
       "      <th>mean</th>\n",
       "      <th>count</th>\n",
       "    </tr>\n",
       "    <tr>\n",
       "      <th>cltv_segment</th>\n",
       "      <th></th>\n",
       "      <th></th>\n",
       "      <th></th>\n",
       "      <th></th>\n",
       "      <th></th>\n",
       "      <th></th>\n",
       "      <th></th>\n",
       "      <th></th>\n",
       "      <th></th>\n",
       "      <th></th>\n",
       "      <th></th>\n",
       "      <th></th>\n",
       "      <th></th>\n",
       "      <th></th>\n",
       "      <th></th>\n",
       "      <th></th>\n",
       "      <th></th>\n",
       "      <th></th>\n",
       "      <th></th>\n",
       "      <th></th>\n",
       "      <th></th>\n",
       "      <th></th>\n",
       "      <th></th>\n",
       "      <th></th>\n",
       "    </tr>\n",
       "  </thead>\n",
       "  <tbody>\n",
       "    <tr>\n",
       "      <th>D</th>\n",
       "      <td>691817.8571</td>\n",
       "      <td>138.7243</td>\n",
       "      <td>4987</td>\n",
       "      <td>807751.4286</td>\n",
       "      <td>161.9714</td>\n",
       "      <td>4987</td>\n",
       "      <td>18656.0000</td>\n",
       "      <td>3.7409</td>\n",
       "      <td>4987</td>\n",
       "      <td>460724.3270</td>\n",
       "      <td>92.3851</td>\n",
       "      <td>4987</td>\n",
       "      <td>2017.3505</td>\n",
       "      <td>0.4045</td>\n",
       "      <td>4987</td>\n",
       "      <td>4034.7009</td>\n",
       "      <td>0.8090</td>\n",
       "      <td>4987</td>\n",
       "      <td>487706.9407</td>\n",
       "      <td>97.7957</td>\n",
       "      <td>4987</td>\n",
       "      <td>396222.7512</td>\n",
       "      <td>79.4511</td>\n",
       "      <td>4987</td>\n",
       "    </tr>\n",
       "    <tr>\n",
       "      <th>C</th>\n",
       "      <td>502597.4286</td>\n",
       "      <td>100.8017</td>\n",
       "      <td>4986</td>\n",
       "      <td>602295.1429</td>\n",
       "      <td>120.7973</td>\n",
       "      <td>4986</td>\n",
       "      <td>21728.0000</td>\n",
       "      <td>4.3578</td>\n",
       "      <td>4986</td>\n",
       "      <td>632976.5582</td>\n",
       "      <td>126.9508</td>\n",
       "      <td>4986</td>\n",
       "      <td>2445.3933</td>\n",
       "      <td>0.4905</td>\n",
       "      <td>4986</td>\n",
       "      <td>4890.7867</td>\n",
       "      <td>0.9809</td>\n",
       "      <td>4986</td>\n",
       "      <td>664292.4610</td>\n",
       "      <td>133.2315</td>\n",
       "      <td>4986</td>\n",
       "      <td>657142.7351</td>\n",
       "      <td>131.7976</td>\n",
       "      <td>4986</td>\n",
       "    </tr>\n",
       "    <tr>\n",
       "      <th>B</th>\n",
       "      <td>408637.8571</td>\n",
       "      <td>81.9571</td>\n",
       "      <td>4986</td>\n",
       "      <td>501581.8571</td>\n",
       "      <td>100.5980</td>\n",
       "      <td>4986</td>\n",
       "      <td>23634.0000</td>\n",
       "      <td>4.7401</td>\n",
       "      <td>4986</td>\n",
       "      <td>790299.8440</td>\n",
       "      <td>158.5038</td>\n",
       "      <td>4986</td>\n",
       "      <td>2741.7784</td>\n",
       "      <td>0.5499</td>\n",
       "      <td>4986</td>\n",
       "      <td>5483.5568</td>\n",
       "      <td>1.0998</td>\n",
       "      <td>4986</td>\n",
       "      <td>825901.0638</td>\n",
       "      <td>165.6440</td>\n",
       "      <td>4986</td>\n",
       "      <td>916867.5985</td>\n",
       "      <td>183.8884</td>\n",
       "      <td>4986</td>\n",
       "    </tr>\n",
       "    <tr>\n",
       "      <th>A</th>\n",
       "      <td>296977.2857</td>\n",
       "      <td>59.5622</td>\n",
       "      <td>4986</td>\n",
       "      <td>374361.5714</td>\n",
       "      <td>75.0825</td>\n",
       "      <td>4986</td>\n",
       "      <td>24848.0000</td>\n",
       "      <td>4.9836</td>\n",
       "      <td>4986</td>\n",
       "      <td>1090446.5257</td>\n",
       "      <td>218.7017</td>\n",
       "      <td>4986</td>\n",
       "      <td>3198.8211</td>\n",
       "      <td>0.6416</td>\n",
       "      <td>4986</td>\n",
       "      <td>6397.6421</td>\n",
       "      <td>1.2831</td>\n",
       "      <td>4986</td>\n",
       "      <td>1138510.9241</td>\n",
       "      <td>228.3415</td>\n",
       "      <td>4986</td>\n",
       "      <td>1457499.1077</td>\n",
       "      <td>292.3183</td>\n",
       "      <td>4986</td>\n",
       "    </tr>\n",
       "  </tbody>\n",
       "</table>\n",
       "</div>"
      ],
      "text/plain": [
       "             recency_cltv_weekly                   T_weekly                 frequency              monetary_cltv_avg                exp_sales_3_month              exp_sales_6_month              exp_average_profit                        cltv               \n",
       "                             sum     mean count         sum     mean count        sum   mean count               sum     mean count               sum   mean count               sum   mean count                sum     mean count          sum     mean count\n",
       "cltv_segment                                                                                                                                                                                                                                                   \n",
       "D                    691817.8571 138.7243  4987 807751.4286 161.9714  4987 18656.0000 3.7409  4987       460724.3270  92.3851  4987         2017.3505 0.4045  4987         4034.7009 0.8090  4987        487706.9407  97.7957  4987  396222.7512  79.4511  4987\n",
       "C                    502597.4286 100.8017  4986 602295.1429 120.7973  4986 21728.0000 4.3578  4986       632976.5582 126.9508  4986         2445.3933 0.4905  4986         4890.7867 0.9809  4986        664292.4610 133.2315  4986  657142.7351 131.7976  4986\n",
       "B                    408637.8571  81.9571  4986 501581.8571 100.5980  4986 23634.0000 4.7401  4986       790299.8440 158.5038  4986         2741.7784 0.5499  4986         5483.5568 1.0998  4986        825901.0638 165.6440  4986  916867.5985 183.8884  4986\n",
       "A                    296977.2857  59.5622  4986 374361.5714  75.0825  4986 24848.0000 4.9836  4986      1090446.5257 218.7017  4986         3198.8211 0.6416  4986         6397.6421 1.2831  4986       1138510.9241 228.3415  4986 1457499.1077 292.3183  4986"
      ]
     },
     "execution_count": 31,
     "metadata": {},
     "output_type": "execute_result"
    }
   ],
   "source": [
    "cltv_df.groupby(\"cltv_segment\").agg({\"count\",\"mean\",\"sum\"})"
   ]
  }
 ],
 "metadata": {
  "kernelspec": {
   "display_name": "Python 3",
   "language": "python",
   "name": "python3"
  },
  "language_info": {
   "codemirror_mode": {
    "name": "ipython",
    "version": 3
   },
   "file_extension": ".py",
   "mimetype": "text/x-python",
   "name": "python",
   "nbconvert_exporter": "python",
   "pygments_lexer": "ipython3",
   "version": "3.7.4"
  }
 },
 "nbformat": 4,
 "nbformat_minor": 5
}
